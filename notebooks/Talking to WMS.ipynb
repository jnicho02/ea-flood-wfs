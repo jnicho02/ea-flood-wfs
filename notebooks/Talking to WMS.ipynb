{
 "cells": [
  {
   "cell_type": "code",
   "execution_count": 129,
   "id": "ed428051",
   "metadata": {},
   "outputs": [],
   "source": [
    "from owslib.wms import WebMapService"
   ]
  },
  {
   "cell_type": "code",
   "execution_count": 130,
   "id": "c7db431e",
   "metadata": {},
   "outputs": [],
   "source": [
    "wms = WebMapService(\n",
    "    url='https://environment.data.gov.uk/spatialdata/flood-map-for-planning-rivers-and-sea-flood-zone-2/wms',\n",
    "    version='1.3.0'\n",
    ")"
   ]
  },
  {
   "cell_type": "code",
   "execution_count": 131,
   "id": "6610289a",
   "metadata": {},
   "outputs": [
    {
     "data": {
      "text/plain": [
       "'Flood_Map_for_Planning_Rivers_and_Sea_Flood_Zone_2'"
      ]
     },
     "execution_count": 131,
     "metadata": {},
     "output_type": "execute_result"
    }
   ],
   "source": [
    "layer1 = next(iter(wms.contents))\n",
    "layer1"
   ]
  },
  {
   "cell_type": "code",
   "execution_count": 132,
   "id": "ea99051a",
   "metadata": {},
   "outputs": [],
   "source": [
    "img = wms.getmap(\n",
    "    layers=[layer1],\n",
    "    size=[1456, 166],\n",
    "    srs='EPSG:3857', # this is the projection that Mapboxgl returns\n",
    "    bbox=[-15287, 6710865, -14981, 6711171],\n",
    "    format='image/png'\n",
    ")"
   ]
  },
  {
   "cell_type": "code",
   "execution_count": 133,
   "id": "fa6fbbd2",
   "metadata": {
    "scrolled": false
   },
   "outputs": [
    {
     "data": {
      "image/png": "[encoded data removed]",
      "text/plain": [
       "<IPython.core.display.Image object>"
      ]
     },
     "execution_count": 133,
     "metadata": {},
     "output_type": "execute_result"
    }
   ],
   "source": [
    "from IPython.display import Image\n",
    "Image(img.read())"
   ]
  },
  {
   "cell_type": "code",
   "execution_count": 134,
   "id": "8eb4ad80",
   "metadata": {},
   "outputs": [],
   "source": [
    "location = {'eastings': 519053, 'northings': 108455}"
   ]
  },
  {
   "cell_type": "code",
   "execution_count": 135,
   "id": "5edb3a09",
   "metadata": {},
   "outputs": [],
   "source": [
    "img = wms.getmap(\n",
    "    layers=[layer1],\n",
    "    size=[300, 300],\n",
    "    srs=\"EPSG:27700\",\n",
    "    bbox=[location['eastings'], location['northings'], location['eastings'] + 2000, location['northings'] + 2000],\n",
    "    format='image/png'\n",
    ")"
   ]
  },
  {
   "cell_type": "code",
   "execution_count": 136,
   "id": "0bf6260a",
   "metadata": {},
   "outputs": [
    {
     "data": {
      "image/png": "[encoded data removed]",
      "text/plain": [
       "<IPython.core.display.Image object>"
      ]
     },
     "execution_count": 136,
     "metadata": {},
     "output_type": "execute_result"
    }
   ],
   "source": [
    "from IPython.display import Image\n",
    "Image(img.read())"
   ]
  },
  {
   "cell_type": "code",
   "execution_count": null,
   "id": "109e89f4",
   "metadata": {},
   "outputs": [],
   "source": []
  }
 ],
 "metadata": {
  "kernelspec": {
   "display_name": "Python 3 (ipykernel)",
   "language": "python",
   "name": "python3"
  },
  "language_info": {
   "codemirror_mode": {
    "name": "ipython",
    "version": 3
   },
   "file_extension": ".py",
   "mimetype": "text/x-python",
   "name": "python",
   "nbconvert_exporter": "python",
   "pygments_lexer": "ipython3",
   "version": "3.9.7"
  }
 },
 "nbformat": 4,
 "nbformat_minor": 5
}
