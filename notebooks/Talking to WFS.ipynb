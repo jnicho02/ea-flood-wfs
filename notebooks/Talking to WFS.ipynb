{
 "cells": [
  {
   "cell_type": "code",
   "execution_count": 1,
   "id": "c9bc5537",
   "metadata": {},
   "outputs": [],
   "source": [
    "from owslib.wfs import WebFeatureService"
   ]
  },
  {
   "cell_type": "code",
   "execution_count": 2,
   "id": "46b52887",
   "metadata": {},
   "outputs": [],
   "source": [
    "ea_fz2 = WebFeatureService(\n",
    "    url='https://environment.data.gov.uk/spatialdata/flood-map-for-planning-rivers-and-sea-flood-zone-2/wfs',\n",
    "    version='2.0.0'\n",
    ")"
   ]
  },
  {
   "cell_type": "code",
   "execution_count": 3,
   "id": "e235271d",
   "metadata": {},
   "outputs": [
    {
     "data": {
      "text/plain": [
       "'WFS'"
      ]
     },
     "execution_count": 3,
     "metadata": {},
     "output_type": "execute_result"
    }
   ],
   "source": [
    "ea_fz2.identification.title\n"
   ]
  },
  {
   "cell_type": "code",
   "execution_count": 4,
   "id": "3338aa8a",
   "metadata": {},
   "outputs": [
    {
     "data": {
      "text/plain": [
       "'Defra Network WFS server provided by the Environment Agency'"
      ]
     },
     "execution_count": 4,
     "metadata": {},
     "output_type": "execute_result"
    }
   ],
   "source": [
    "ea_fz2.identification.abstract"
   ]
  },
  {
   "cell_type": "code",
   "execution_count": 5,
   "id": "a60ad24f",
   "metadata": {
    "scrolled": true
   },
   "outputs": [
    {
     "data": {
      "text/plain": [
       "['ms:Flood_Map_for_Planning_Rivers_and_Sea_Flood_Zone_2']"
      ]
     },
     "execution_count": 5,
     "metadata": {},
     "output_type": "execute_result"
    }
   ],
   "source": [
    "list(ea_fz2.contents)"
   ]
  },
  {
   "cell_type": "markdown",
   "id": "43e7e73e",
   "metadata": {},
   "source": [
    "You can only pass it British National Grid ESPG::27700"
   ]
  },
  {
   "cell_type": "code",
   "execution_count": 6,
   "id": "99a6227e",
   "metadata": {
    "scrolled": true
   },
   "outputs": [
    {
     "data": {
      "text/plain": [
       "[urn:ogc:def:crs:EPSG::27700]"
      ]
     },
     "execution_count": 6,
     "metadata": {},
     "output_type": "execute_result"
    }
   ],
   "source": [
    "ea_fz2['ms:Flood_Map_for_Planning_Rivers_and_Sea_Flood_Zone_2'].crsOptions"
   ]
  },
  {
   "cell_type": "code",
   "execution_count": 7,
   "id": "416900e6",
   "metadata": {},
   "outputs": [
    {
     "data": {
      "text/plain": [
       "[<owslib.ows.OperationsMetadata GetCapabilities at 0x7fafecf18550>,\n",
       " <owslib.ows.OperationsMetadata DescribeFeatureType at 0x7fafecf18160>,\n",
       " <owslib.ows.OperationsMetadata GetPropertyValue at 0x7fafecf185e0>,\n",
       " <owslib.ows.OperationsMetadata GetFeature at 0x7fafecf185b0>,\n",
       " <owslib.ows.OperationsMetadata GetGmlObject at 0x7fafecf18850>,\n",
       " <owslib.ows.OperationsMetadata ListStoredQueries at 0x7fafecf188b0>,\n",
       " <owslib.ows.OperationsMetadata DescribeStoredQueries at 0x7fafecf18910>,\n",
       " <owslib.ows.OperationsMetadata ImplementsBasicWFS at 0x7fafecf18970>,\n",
       " <owslib.ows.OperationsMetadata ImplementsTransactionalWFS at 0x7fafecf189d0>,\n",
       " <owslib.ows.OperationsMetadata ImplementsLockingWFS at 0x7fafecf18a30>,\n",
       " <owslib.ows.OperationsMetadata KVPEncoding at 0x7fafecf18a90>,\n",
       " <owslib.ows.OperationsMetadata XMLEncoding at 0x7fafecf18af0>,\n",
       " <owslib.ows.OperationsMetadata SOAPEncoding at 0x7fafecf18b50>,\n",
       " <owslib.ows.OperationsMetadata ImplementsInheritance at 0x7fafecf18bb0>,\n",
       " <owslib.ows.OperationsMetadata ImplementsRemoteResolve at 0x7fafecf18c10>,\n",
       " <owslib.ows.OperationsMetadata ImplementsResultPaging at 0x7fafecf18c70>,\n",
       " <owslib.ows.OperationsMetadata ImplementsStandardJoins at 0x7fafecf18cd0>,\n",
       " <owslib.ows.OperationsMetadata ImplementsSpatialJoins at 0x7fafecf18d30>,\n",
       " <owslib.ows.OperationsMetadata ImplementsTemporalJoins at 0x7fafecf18d90>,\n",
       " <owslib.ows.OperationsMetadata ImplementsFeatureVersioning at 0x7fafecf18df0>,\n",
       " <owslib.ows.OperationsMetadata ManageStoredQueries at 0x7fafecf18e50>]"
      ]
     },
     "execution_count": 7,
     "metadata": {},
     "output_type": "execute_result"
    }
   ],
   "source": [
    "ea_fz2.operations"
   ]
  },
  {
   "cell_type": "code",
   "execution_count": 8,
   "id": "b61535e0",
   "metadata": {},
   "outputs": [],
   "source": [
    "# ea_fz2.get_schema('ms:Flood_Map_for_Planning_Rivers_and_Sea_Flood_Zone_2')"
   ]
  },
  {
   "cell_type": "code",
   "execution_count": 9,
   "id": "4298c6c3",
   "metadata": {},
   "outputs": [],
   "source": [
    "top_left = {'eastings': 522502, 'northings': 105202}\n",
    "bottom_right = {'eastings': 522789, 'northings': 105028}"
   ]
  },
  {
   "cell_type": "code",
   "execution_count": 10,
   "id": "0e20eade",
   "metadata": {},
   "outputs": [],
   "source": [
    "location = {'eastings': 519053, 'northings': 108455}"
   ]
  },
  {
   "cell_type": "code",
   "execution_count": 11,
   "id": "b1ed3375",
   "metadata": {},
   "outputs": [],
   "source": [
    "response = ea_fz2.getfeature(\n",
    "    typename='ms:Flood_Map_for_Planning_Rivers_and_Sea_Flood_Zone_2',\n",
    "    bbox=[location['eastings'], location['northings'], location['eastings'] + 2000, location['northings'] + 2000]\n",
    ")"
   ]
  },
  {
   "cell_type": "code",
   "execution_count": 12,
   "id": "df87808b",
   "metadata": {},
   "outputs": [],
   "source": [
    "# response.read().find(b'<wfs:FeatureCollection')"
   ]
  },
  {
   "cell_type": "code",
   "execution_count": 13,
   "id": "cae0a5a0",
   "metadata": {},
   "outputs": [],
   "source": [
    "t = response.read()"
   ]
  },
  {
   "cell_type": "code",
   "execution_count": 14,
   "id": "1783e6aa",
   "metadata": {},
   "outputs": [
    {
     "data": {
      "text/plain": [
       "b'<?xml version=\"1.0\" encoding=\"utf-8\" ?><wfs:FeatureCollection xmlns:xs=\"http://www.w3.org/2001/XMLSchema\" xmlns:wfs=\"http://www.opengis.net/wfs/2.0\" xmlns:gml=\"http://www.opengis.net/gml/3.2\" xmlns:ms=\"https://environment.data.gov.uk/spatialdata/flood-map-for-planning-rivers-and-sea-flood-zone-2/wfs\" xmlns:xlink=\"http://www.w3.org/1999/xlink\" xmlns:xsi=\"http://www.w3.org/2001/XMLSchema-instance\" timeStamp=\"2021-11-03T13:59:26Z\" numberMatched=\"unknown\" xsi:schemaLocation=\"http://www.opengis.net/wfs/2.0 http://schemas.opengis.net/wfs/2.0/wfs.xsd http://www.opengis.net/gml/3.2 http://schemas.opengis.net/gml/3.2.1/gml.xsd https://environment.data.gov.uk/spatialdata/flood-map-for-planning-rivers-and-sea-flood-zone-2/wfs https://environment.data.gov.uk/spatialdata/flood-map-for-planning-rivers-and-sea-flood-zone-2/wfs?service=wfs%26version=2.0.0%26request=DescribeFeatureType\"></wfs:FeatureCollection>'"
      ]
     },
     "execution_count": 14,
     "metadata": {},
     "output_type": "execute_result"
    }
   ],
   "source": [
    "t"
   ]
  },
  {
   "cell_type": "code",
   "execution_count": null,
   "id": "7207e3fb",
   "metadata": {},
   "outputs": [],
   "source": []
  }
 ],
 "metadata": {
  "kernelspec": {
   "display_name": "Python 3 (ipykernel)",
   "language": "python",
   "name": "python3"
  },
  "language_info": {
   "codemirror_mode": {
    "name": "ipython",
    "version": 3
   },
   "file_extension": ".py",
   "mimetype": "text/x-python",
   "name": "python",
   "nbconvert_exporter": "python",
   "pygments_lexer": "ipython3",
   "version": "3.9.7"
  }
 },
 "nbformat": 4,
 "nbformat_minor": 5
}
